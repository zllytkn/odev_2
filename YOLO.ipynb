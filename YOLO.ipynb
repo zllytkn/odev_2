{
 "cells": [
  {
   "cell_type": "code",
   "execution_count": null,
   "id": "47d3c8f8",
   "metadata": {},
   "outputs": [],
   "source": [
    "# Gerekli kütüphanelerin yüklenmesi\n",
    "!pip install ultralytics\n",
    "!pip install opencv-python\n",
    "!pip install matplotlib\n",
    "!pip install numpy\n",
    "!pip install torch\n",
    "!pip install torchvision\n",
    "!pip install torchaudio"
   ]
  },
  {
   "cell_type": "code",
   "execution_count": 6,
   "id": "d06c88bf-26ad-4c5b-81f4-38a8d7c8ce67",
   "metadata": {},
   "outputs": [],
   "source": [
    "# Model eğitimi ve toplu resim yükleme için gerekli kütüphaneleri dahil edelim\n",
    "from ultralytics import YOLO\n",
    "import glob"
   ]
  },
  {
   "cell_type": "code",
   "execution_count": 40,
   "id": "fe0b8346-76dd-4dd8-8761-62004d16d65b",
   "metadata": {},
   "outputs": [],
   "source": [
    "# Eğitilmiş bir model yükleyelim\n",
    "model_11x = YOLO(f'yolo11x.pt')"
   ]
  },
  {
   "cell_type": "code",
   "execution_count": 46,
   "id": "235a1506-6b50-4e38-9cbb-12ba0a83ed05",
   "metadata": {},
   "outputs": [],
   "source": [
    "# Birden fazla görselin bulunduğu klasörden tüm .jpg dosyalarını yükleyelim\n",
    "image_paths = glob.glob('photos/*.jpg')\n"
   ]
  },
  {
   "cell_type": "code",
   "execution_count": null,
   "id": "4627cf62-42dd-4d8b-9b02-55ce9f4305fc",
   "metadata": {
    "scrolled": true
   },
   "outputs": [],
   "source": [
    "# Toplu olarak sonuçları almak için bir liste oluşturalım\n",
    "all_results = []  \n",
    "\n",
    "# Her bir görsel üzerinde tahmin yapıp sonra sonuçları kaydedelim\n",
    "for image_path in image_paths:\n",
    "    results = model_11x(source=image_path, \n",
    "                    stream=False, \n",
    "                    conf=0.20, \n",
    "                    show=False, \n",
    "                    save=True, \n",
    "                    device='cpu')\n",
    "    # Sonuçları listeye ekleyelim\n",
    "    all_results.append(results)\n",
    "\n",
    "# Sonuçları yazdırıp sonuçları bir klasörde toplayalım\n",
    "for i, result in enumerate(all_results):\n",
    "    print(f\"Görsel {i+1}: {image_paths[i]}\")\n",
    "    print(result)  "
   ]
  },
  {
   "cell_type": "code",
   "execution_count": null,
   "id": "df76b7f8-7971-46b8-90ee-4305bf4f400e",
   "metadata": {},
   "outputs": [],
   "source": []
  }
 ],
 "metadata": {
  "kernelspec": {
   "display_name": "Python 3",
   "language": "python",
   "name": "python3"
  },
  "language_info": {
   "codemirror_mode": {
    "name": "ipython",
    "version": 3
   },
   "file_extension": ".py",
   "mimetype": "text/x-python",
   "name": "python",
   "nbconvert_exporter": "python",
   "pygments_lexer": "ipython3",
   "version": "3.12.7"
  }
 },
 "nbformat": 4,
 "nbformat_minor": 5
}
